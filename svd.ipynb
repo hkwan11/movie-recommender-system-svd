{
 "cells": [
  {
   "cell_type": "markdown",
   "metadata": {},
   "source": [
    "# Problem Description"
   ]
  },
  {
   "cell_type": "markdown",
   "metadata": {},
   "source": [
    "# Exploratory Data Analysis (EDA)"
   ]
  },
  {
   "cell_type": "code",
   "execution_count": 1,
   "metadata": {},
   "outputs": [],
   "source": [
    "import pandas as pd\n",
    "import numpy as np"
   ]
  },
  {
   "cell_type": "code",
   "execution_count": 2,
   "metadata": {},
   "outputs": [
    {
     "data": {
      "text/html": [
       "<div>\n",
       "<style scoped>\n",
       "    .dataframe tbody tr th:only-of-type {\n",
       "        vertical-align: middle;\n",
       "    }\n",
       "\n",
       "    .dataframe tbody tr th {\n",
       "        vertical-align: top;\n",
       "    }\n",
       "\n",
       "    .dataframe thead th {\n",
       "        text-align: right;\n",
       "    }\n",
       "</style>\n",
       "<table border=\"1\" class=\"dataframe\">\n",
       "  <thead>\n",
       "    <tr style=\"text-align: right;\">\n",
       "      <th></th>\n",
       "      <th>genre_ids</th>\n",
       "      <th>id</th>\n",
       "      <th>original_language</th>\n",
       "      <th>overview</th>\n",
       "      <th>popularity</th>\n",
       "      <th>release_date</th>\n",
       "      <th>title</th>\n",
       "      <th>vote_average</th>\n",
       "      <th>vote_count</th>\n",
       "    </tr>\n",
       "  </thead>\n",
       "  <tbody>\n",
       "    <tr>\n",
       "      <th>0</th>\n",
       "      <td>[878, 28, 12]</td>\n",
       "      <td>580489.0</td>\n",
       "      <td>en</td>\n",
       "      <td>After finding a host body in investigative rep...</td>\n",
       "      <td>6972.003</td>\n",
       "      <td>2021-09-30</td>\n",
       "      <td>Venom: Let There Be Carnage</td>\n",
       "      <td>7.2</td>\n",
       "      <td>4500.0</td>\n",
       "    </tr>\n",
       "    <tr>\n",
       "      <th>1</th>\n",
       "      <td>[28, 35, 80, 53]</td>\n",
       "      <td>512195.0</td>\n",
       "      <td>en</td>\n",
       "      <td>An Interpol-issued Red Notice is a global aler...</td>\n",
       "      <td>4496.760</td>\n",
       "      <td>2021-11-04</td>\n",
       "      <td>Red Notice</td>\n",
       "      <td>6.8</td>\n",
       "      <td>2016.0</td>\n",
       "    </tr>\n",
       "    <tr>\n",
       "      <th>2</th>\n",
       "      <td>[28, 12, 878, 14]</td>\n",
       "      <td>634649.0</td>\n",
       "      <td>en</td>\n",
       "      <td>Peter Parker is unmasked and no longer able to...</td>\n",
       "      <td>4062.446</td>\n",
       "      <td>2021-12-15</td>\n",
       "      <td>Spider-Man: No Way Home</td>\n",
       "      <td>8.4</td>\n",
       "      <td>84.0</td>\n",
       "    </tr>\n",
       "    <tr>\n",
       "      <th>3</th>\n",
       "      <td>[16, 35, 10751]</td>\n",
       "      <td>585245.0</td>\n",
       "      <td>en</td>\n",
       "      <td>As Emily struggles to fit in at home and at sc...</td>\n",
       "      <td>2509.512</td>\n",
       "      <td>2021-11-10</td>\n",
       "      <td>Clifford the Big Red Dog</td>\n",
       "      <td>7.6</td>\n",
       "      <td>568.0</td>\n",
       "    </tr>\n",
       "    <tr>\n",
       "      <th>4</th>\n",
       "      <td>[28, 12, 14]</td>\n",
       "      <td>566525.0</td>\n",
       "      <td>en</td>\n",
       "      <td>Shang-Chi must confront the past he thought he...</td>\n",
       "      <td>2453.799</td>\n",
       "      <td>2021-09-01</td>\n",
       "      <td>Shang-Chi and the Legend of the Ten Rings</td>\n",
       "      <td>7.8</td>\n",
       "      <td>4244.0</td>\n",
       "    </tr>\n",
       "  </tbody>\n",
       "</table>\n",
       "</div>"
      ],
      "text/plain": [
       "           genre_ids        id original_language  \\\n",
       "0      [878, 28, 12]  580489.0                en   \n",
       "1   [28, 35, 80, 53]  512195.0                en   \n",
       "2  [28, 12, 878, 14]  634649.0                en   \n",
       "3    [16, 35, 10751]  585245.0                en   \n",
       "4       [28, 12, 14]  566525.0                en   \n",
       "\n",
       "                                            overview  popularity release_date  \\\n",
       "0  After finding a host body in investigative rep...    6972.003   2021-09-30   \n",
       "1  An Interpol-issued Red Notice is a global aler...    4496.760   2021-11-04   \n",
       "2  Peter Parker is unmasked and no longer able to...    4062.446   2021-12-15   \n",
       "3  As Emily struggles to fit in at home and at sc...    2509.512   2021-11-10   \n",
       "4  Shang-Chi must confront the past he thought he...    2453.799   2021-09-01   \n",
       "\n",
       "                                       title  vote_average  vote_count  \n",
       "0                Venom: Let There Be Carnage           7.2      4500.0  \n",
       "1                                 Red Notice           6.8      2016.0  \n",
       "2                    Spider-Man: No Way Home           8.4        84.0  \n",
       "3                   Clifford the Big Red Dog           7.6       568.0  \n",
       "4  Shang-Chi and the Legend of the Ten Rings           7.8      4244.0  "
      ]
     },
     "execution_count": 2,
     "metadata": {},
     "output_type": "execute_result"
    }
   ],
   "source": [
    "movies = pd.read_csv('movies_dataset.csv')\n",
    "movies.head()"
   ]
  },
  {
   "cell_type": "markdown",
   "metadata": {},
   "source": [
    "# Analysis (Model Building and Training)"
   ]
  },
  {
   "cell_type": "markdown",
   "metadata": {},
   "source": [
    "# Results"
   ]
  },
  {
   "cell_type": "markdown",
   "metadata": {},
   "source": [
    "# Conclusion"
   ]
  },
  {
   "cell_type": "code",
   "execution_count": null,
   "metadata": {},
   "outputs": [],
   "source": []
  }
 ],
 "metadata": {
  "kernelspec": {
   "display_name": "Python 3",
   "language": "python",
   "name": "python3"
  },
  "language_info": {
   "codemirror_mode": {
    "name": "ipython",
    "version": 3
   },
   "file_extension": ".py",
   "mimetype": "text/x-python",
   "name": "python",
   "nbconvert_exporter": "python",
   "pygments_lexer": "ipython3",
   "version": "3.10.13"
  }
 },
 "nbformat": 4,
 "nbformat_minor": 2
}
